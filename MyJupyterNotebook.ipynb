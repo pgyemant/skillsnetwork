{
 "cells": [
  {
   "cell_type": "markdown",
   "id": "d81c50bc-148b-45d7-a322-8de25775d56a",
   "metadata": {},
   "source": [
    "# My Jupyter Notebook on IBM Watson Studio"
   ]
  },
  {
   "cell_type": "markdown",
   "id": "12233e70-270d-4218-8ff4-d5b6f2249d81",
   "metadata": {},
   "source": [
    "**Péter Gyémánt**\n",
    "Data Scientist"
   ]
  },
  {
   "cell_type": "markdown",
   "id": "095e2e86-e421-41ff-ac1e-609c68e7082e",
   "metadata": {},
   "source": [
    "*I am interested in Data Science because I like solving problems, maths, and statistics. This field is also attractive because it has a bigger future than present.*"
   ]
  },
  {
   "cell_type": "markdown",
   "id": "9a7c7d91-0880-4c4b-97f3-9ff6d668e9b0",
   "metadata": {},
   "source": [
    "### My code should prove that 2 plus 2 is always 4 from a scientific viewpont"
   ]
  },
  {
   "cell_type": "code",
   "execution_count": 1,
   "id": "ba225ee1-e55d-4ca9-90d2-93388599aa05",
   "metadata": {},
   "outputs": [
    {
     "data": {
      "text/plain": [
       "4"
      ]
     },
     "execution_count": 1,
     "metadata": {},
     "output_type": "execute_result"
    }
   ],
   "source": [
    "2+2"
   ]
  },
  {
   "cell_type": "markdown",
   "id": "82b2d50c-dfba-45c1-8813-a53bfaf3255e",
   "metadata": {},
   "source": [
    "***\n",
    "- Bullet \n",
    "- Points\n",
    "1. Numbered\n",
    "2. List"
   ]
  },
  {
   "cell_type": "code",
   "execution_count": null,
   "id": "6b861360-d733-41b1-8536-64be9e3a23e9",
   "metadata": {},
   "outputs": [],
   "source": []
  }
 ],
 "metadata": {
  "kernelspec": {
   "display_name": "Python",
   "language": "python",
   "name": "conda-env-python-py"
  },
  "language_info": {
   "codemirror_mode": {
    "name": "ipython",
    "version": 3
   },
   "file_extension": ".py",
   "mimetype": "text/x-python",
   "name": "python",
   "nbconvert_exporter": "python",
   "pygments_lexer": "ipython3",
   "version": "3.7.12"
  }
 },
 "nbformat": 4,
 "nbformat_minor": 5
}
